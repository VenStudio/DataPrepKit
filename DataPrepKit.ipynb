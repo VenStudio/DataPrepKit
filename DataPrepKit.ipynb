{
 "cells": [
  {
   "cell_type": "code",
   "execution_count": 1,
   "id": "cadcf38c",
   "metadata": {},
   "outputs": [],
   "source": [
    "import pandas as pd"
   ]
  },
  {
   "cell_type": "code",
   "execution_count": 2,
   "id": "78006387",
   "metadata": {},
   "outputs": [],
   "source": [
    "# Data Reading\n",
    "def read_csv(file_path):\n",
    "    df = pd.read_csv(file_path)\n",
    "    return df\n",
    "\n",
    "def read_excel(file_path, sheet_name=0):\n",
    "    df = pd.read_excel(file_path, sheet_name=sheet_name)\n",
    "    return df\n",
    "\n",
    "def read_json(file_path):\n",
    "    df = pd.read_json(file_path)\n",
    "    return df"
   ]
  },
  {
   "cell_type": "code",
   "execution_count": 3,
   "id": "7b3348d8",
   "metadata": {},
   "outputs": [],
   "source": [
    "import numpy as np"
   ]
  },
  {
   "cell_type": "code",
   "execution_count": 4,
   "id": "fb3d6213",
   "metadata": {},
   "outputs": [],
   "source": [
    "# Data Summaries\n",
    "def mean(data):\n",
    "    return np.mean(data)\n",
    "\n",
    "def median(data):\n",
    "    return np.median(data)\n",
    "\n",
    "def mode(data):\n",
    "    return data.mode().values.tolist()\n",
    "\n",
    "def standardDeviation(data):\n",
    "    return np.std(data)\n",
    "\n",
    "def min(data):\n",
    "    return np.min(data)\n",
    "\n",
    "def max(data):\n",
    "    return np.max(data)\n",
    "\n",
    "def frequent_values(data):\n",
    "    return data.value_counts()\n",
    "\n",
    "def summary(data):\n",
    "        summary = {\n",
    "        'mean': np.mean(data),\n",
    "        'median': np.median(data),\n",
    "        'mode': data.mode().iloc[0],  # Get the first mode if multiple exist\n",
    "        'min': np.min(data),\n",
    "        'max': np.max(data),\n",
    "        'std_dev': dnp.std(data),\n",
    "        'num_missing_values': data.isnull().sum(),\n",
    "    }"
   ]
  },
  {
   "cell_type": "code",
   "execution_count": 5,
   "id": "feebf280",
   "metadata": {},
   "outputs": [],
   "source": [
    "#Handling Missing Values\n",
    "def handle_missing_values(data, strategy):\n",
    "    if strategy == 'drop':\n",
    "        data_cleaned = data.dropna()\n",
    "    elif strategy in ['mean', 'median', 'mode']:\n",
    "        data_cleaned = data.fillna(data.agg(strategy))\n",
    "    elif strategy in ['ffill', 'bfill']:\n",
    "        data_cleaned = data.fillna(method=strategy)\n",
    "    else:\n",
    "        raise ValueError(\"Invalid strategy. Choose from 'mean', 'median', 'mode', 'ffill', 'bfill', 'drop'.\")\n",
    "    \n",
    "    return data_cleaned\n",
    "\n",
    "def replace_missing_values(data, newValue):\n",
    "    clean_data = data.replace(to_replace = np.nan, value = newValue)\n",
    "    \n",
    "    return clean_data"
   ]
  },
  {
   "cell_type": "code",
   "execution_count": 6,
   "id": "84e45a08",
   "metadata": {},
   "outputs": [],
   "source": [
    "from sklearn.compose import ColumnTransformer\n",
    "from sklearn.preprocessing import OneHotEncoder"
   ]
  },
  {
   "cell_type": "code",
   "execution_count": 7,
   "id": "af3162df",
   "metadata": {},
   "outputs": [],
   "source": [
    "# Data Encoding\n",
    "def encode_categorical(data, by, strategy):\n",
    "    if strategy == 'one-hot':\n",
    "        data_passthrough = ColumnTransformer(transformers=[('encoder', OneHotEncoder(), [by])], remainder='passthrough')\n",
    "        data_encoded = np.array(data_passthrough.fit_transform(data))\n",
    "    elif strategy == 'label':\n",
    "        data_encoded = LabelEncoder().fit_transform(data[by])\n",
    "\n",
    "    return data_encoded\n"
   ]
  },
  {
   "cell_type": "code",
   "execution_count": null,
   "id": "0032d2a9",
   "metadata": {},
   "outputs": [],
   "source": []
  }
 ],
 "metadata": {
  "kernelspec": {
   "display_name": "Python 3 (ipykernel)",
   "language": "python",
   "name": "python3"
  },
  "language_info": {
   "codemirror_mode": {
    "name": "ipython",
    "version": 3
   },
   "file_extension": ".py",
   "mimetype": "text/x-python",
   "name": "python",
   "nbconvert_exporter": "python",
   "pygments_lexer": "ipython3",
   "version": "3.11.7"
  }
 },
 "nbformat": 4,
 "nbformat_minor": 5
}
